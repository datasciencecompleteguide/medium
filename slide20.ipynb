{
 "cells": [
  {
   "cell_type": "markdown",
   "metadata": {},
   "source": [
    "Question:  Given a list of non negative integers, arrange them in such a manner that they form the largest number possible.The result is going to be very large, hence return the result in the form of a string.\n",
    "\n",
    "Input:  \n",
    "The first line of input consists number of the test cases. The description of T test cases is as follows:\n",
    "The first line of each test case contains the size of the array, and the second line has the elements of the array.\n",
    "\n",
    "Output:  \n",
    "In each separate line print the largest number formed by arranging the elements of the array in the form of a string.\n",
    "\n",
    "Input:    \n",
    "2    \n",
    "5    \n",
    "3 30 34 5 9    \n",
    "4    \n",
    "54 546 548 60    \n",
    "\n",
    "Output:    \n",
    "9534330    \n",
    "6054854654   "
   ]
  },
  {
   "cell_type": "code",
   "execution_count": 1,
   "metadata": {},
   "outputs": [
    {
     "name": "stdout",
     "output_type": "stream",
     "text": [
      "6054854654\n"
     ]
    }
   ],
   "source": [
    "def comparator(a, b): \n",
    "    ab = str(a) + str(b) \n",
    "    ba = str(b) + str(a) \n",
    "    return ((int(ba) > int(ab)) - (int(ba) < int(ab))) \n",
    "      \n",
    "def myCompare(mycmp):  \n",
    "    class K(object): \n",
    "        def __init__(self, obj, *args): \n",
    "            self.obj = obj \n",
    "        def __lt__(self, other): \n",
    "            return mycmp(self.obj, other.obj) < 0\n",
    "        def __gt__(self, other): \n",
    "            return mycmp(self.obj, other.obj) > 0\n",
    "        def __eq__(self, other): \n",
    "            return mycmp(self.obj, other.obj) == 0\n",
    "        def __le__(self, other): \n",
    "            return mycmp(self.obj, other.obj) <= 0\n",
    "        def __ge__(self, other): \n",
    "            return mycmp(self.obj, other.obj) >= 0\n",
    "        def __ne__(self, other): \n",
    "            return mycmp(self.obj, other.obj) != 0\n",
    "    return K \n",
    "\n",
    "if __name__ == \"__main__\": \n",
    "    a = [54, 546, 548, 60, ] \n",
    "    sorted_array = sorted(a, key=myCompare(comparator)) \n",
    "    number = \"\".join([str(i) for i in sorted_array]) \n",
    "    print(number) "
   ]
  }
 ],
 "metadata": {
  "kernelspec": {
   "display_name": "Python 3",
   "language": "python",
   "name": "python3"
  },
  "language_info": {
   "codemirror_mode": {
    "name": "ipython",
    "version": 3
   },
   "file_extension": ".py",
   "mimetype": "text/x-python",
   "name": "python",
   "nbconvert_exporter": "python",
   "pygments_lexer": "ipython3",
   "version": "3.7.2"
  }
 },
 "nbformat": 4,
 "nbformat_minor": 4
}
