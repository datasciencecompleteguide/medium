{
 "cells": [
  {
   "cell_type": "markdown",
   "metadata": {},
   "source": [
    "Given the string date representing a Gregorian calendar date formatted as DD-MM-YYYY, return the\n",
    "day number of the year.\n",
    "\n",
    "Input: date = 09-01-2019\n",
    "\n",
    "Output: 9\n",
    "\n",
    "Explanation: Given day is the 9th day of the year in 2019."
   ]
  },
  {
   "cell_type": "code",
   "execution_count": 5,
   "metadata": {},
   "outputs": [
    {
     "name": "stdin",
     "output_type": "stream",
     "text": [
      "Enter date:  09-01-2019\n"
     ]
    },
    {
     "data": {
      "text/plain": [
       "9"
      ]
     },
     "execution_count": 5,
     "metadata": {},
     "output_type": "execute_result"
    }
   ],
   "source": [
    "from datetime import datetime\n",
    "date = input(\"Enter date: \")  ## format is 02-02-2016\n",
    "adate = datetime.strptime(date,\"%d-%m-%Y\")\n",
    "day_of_year = adate.timetuple().tm_yday\n",
    "day_of_year"
   ]
  }
 ],
 "metadata": {
  "kernelspec": {
   "display_name": "Python 3",
   "language": "python",
   "name": "python3"
  },
  "language_info": {
   "codemirror_mode": {
    "name": "ipython",
    "version": 3
   },
   "file_extension": ".py",
   "mimetype": "text/x-python",
   "name": "python",
   "nbconvert_exporter": "python",
   "pygments_lexer": "ipython3",
   "version": "3.7.2"
  }
 },
 "nbformat": 4,
 "nbformat_minor": 4
}
