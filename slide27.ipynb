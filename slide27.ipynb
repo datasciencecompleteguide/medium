{
 "cells": [
  {
   "cell_type": "markdown",
   "metadata": {},
   "source": [
    "Suppose we have a list of dominos. Each domino has two numbers. Two dominos D[i] = [a, b] and D[j] = [c, d] will be same if (a = c and b = d) or (a = d and b = c). So one domino can be rotated. Return number of pairs (i, j) for which 0 <= i < j < length of Dominos, and determine D[i] is equivalent to D[j]. \n",
    "\n",
    "Input: \n",
    "[[1, 2], [2, 1], [3, 4], [6, 5]]. \n",
    "\n",
    "Output: 1\n"
   ]
  },
  {
   "cell_type": "code",
   "execution_count": 1,
   "metadata": {},
   "outputs": [
    {
     "name": "stdout",
     "output_type": "stream",
     "text": [
      "1\n"
     ]
    }
   ],
   "source": [
    "class Solution(object):\n",
    "   def numEquivDominoPairs(self, dominoes):\n",
    "      d = {}\n",
    "      ans = 0\n",
    "      for i in dominoes:\n",
    "         i.sort()\n",
    "         i = tuple(i)\n",
    "         if i not in d:\n",
    "            d[i]= 1\n",
    "         else:\n",
    "            d[i]+=1\n",
    "      for b in d.values():\n",
    "         ans += ((b*(b-1))//2)\n",
    "      return ans\n",
    "ob1 = Solution()\n",
    "print(ob1.numEquivDominoPairs([[1,2],[2,1],[3,4],[5,6]]))"
   ]
  }
 ],
 "metadata": {
  "kernelspec": {
   "display_name": "Python 3",
   "language": "python",
   "name": "python3"
  },
  "language_info": {
   "codemirror_mode": {
    "name": "ipython",
    "version": 3
   },
   "file_extension": ".py",
   "mimetype": "text/x-python",
   "name": "python",
   "nbconvert_exporter": "python",
   "pygments_lexer": "ipython3",
   "version": "3.7.2"
  }
 },
 "nbformat": 4,
 "nbformat_minor": 4
}
