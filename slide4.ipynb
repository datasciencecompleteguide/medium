{
 "cells": [
  {
   "cell_type": "markdown",
   "metadata": {},
   "source": [
    "Question:  Given a string containing only digits, restore it by returning all possible valid IP address combinations.\n",
    "\n",
    "A valid IP address must be in the form of A.B.C.D, where A, B, C, and D are numbers from 0-255. The numbers cannot be 0 prefixed unless they are 0.\n",
    "\n",
    "Input: 25525511135    \n",
    "Output: [“255.255.11.135”, “255.255.111.35”]    \n",
    "Explanation:  These are the only valid possible IP addresses.    \n",
    "\n",
    "Input: \"25505011535\"   \n",
    "Output: []    \n",
    "Explanation:  We cannot generate a valid IP address with this string. "
   ]
  },
  {
   "cell_type": "code",
   "execution_count": 1,
   "metadata": {},
   "outputs": [
    {
     "name": "stdout",
     "output_type": "stream",
     "text": [
      "['255.255.11.135', '255.255.111.35']\n",
      "[]\n"
     ]
    }
   ],
   "source": [
    "def is_valid(ip): \n",
    "    ip = ip.split(\".\") \n",
    "      \n",
    "    for i in ip: \n",
    "        if len(i) > 3 or int(i) < 0 or int(i) > 255: \n",
    "            return False\n",
    "        if len(i) > 1 and int(i) == 0: \n",
    "            return False\n",
    "        if len(i) > 1 and int(i) != 0 and i[0] == '0': \n",
    "            return False\n",
    "    return True\n",
    "\n",
    "def convert(s): \n",
    "    sz = len(s) \n",
    "\n",
    "    if sz > 12: \n",
    "        return [] \n",
    "    snew = s \n",
    "    l = [] \n",
    "    \n",
    "    for i in range(1, sz - 2): \n",
    "        for j in range(i + 1, sz - 1): \n",
    "            for k in range(j + 1, sz): \n",
    "                snew = snew[:k] + \".\" + snew[k:] \n",
    "                snew = snew[:j] + \".\" + snew[j:] \n",
    "                snew = snew[:i] + \".\" + snew[i:] \n",
    "     \n",
    "                if is_valid(snew): \n",
    "                    l.append(snew) \n",
    "                snew = s \n",
    "    return l  \n",
    "        \n",
    "A = \"25525511135\"\n",
    "B = \"25505011535\"\n",
    "print(convert(A)) \n",
    "print(convert(B)) "
   ]
  }
 ],
 "metadata": {
  "kernelspec": {
   "display_name": "Python 3",
   "language": "python",
   "name": "python3"
  },
  "language_info": {
   "codemirror_mode": {
    "name": "ipython",
    "version": 3
   },
   "file_extension": ".py",
   "mimetype": "text/x-python",
   "name": "python",
   "nbconvert_exporter": "python",
   "pygments_lexer": "ipython3",
   "version": "3.7.2"
  }
 },
 "nbformat": 4,
 "nbformat_minor": 4
}
