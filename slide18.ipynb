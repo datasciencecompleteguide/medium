{
 "cells": [
  {
   "cell_type": "markdown",
   "metadata": {},
   "source": [
    "Question: A string is called a happy string if it is a non-empty prefix which is also a suffix (excluding itself).\n",
    "Given a string s, find length of the longest prefix which is also suffix. The prefix and suffix should not overlap.\n",
    "\n",
    "Input: s = “level”    \n",
    "\n",
    "Output: “l”\n",
    "\n",
    "Explanation:    \n",
    "s contains 4 prefix excluding itself (“l”, ”le”, “lev”, “leve”), and suffix (“l”, “el”, “vel”, “evel”). The largest prefix which is also suffix is given by “l”.\n"
   ]
  },
  {
   "cell_type": "code",
   "execution_count": 1,
   "metadata": {},
   "outputs": [
    {
     "name": "stdout",
     "output_type": "stream",
     "text": [
      "1\n"
     ]
    }
   ],
   "source": [
    "def longestPrefixSuffix(s) : \n",
    "    n = len(s) \n",
    "      \n",
    "    for res in range(n // 2, 0, -1) : \n",
    "        prefix = s[0: res] \n",
    "        suffix = s[n - res: n] \n",
    "        if (prefix == suffix) : \n",
    "            return res \n",
    "    return 0\n",
    "      \n",
    "s = \"level\"\n",
    "print(longestPrefixSuffix(s))"
   ]
  },
  {
   "cell_type": "code",
   "execution_count": 3,
   "metadata": {},
   "outputs": [
    {
     "name": "stdout",
     "output_type": "stream",
     "text": [
      "1\n"
     ]
    }
   ],
   "source": [
    "#Solution from the 2nd method i.e, with the help of regular expressions.\n",
    "import re \n",
    "s = \"level\"  \n",
    "print(len(re.findall(r'^(\\w*).*\\1$',s)[0]))"
   ]
  }
 ],
 "metadata": {
  "kernelspec": {
   "display_name": "Python 3",
   "language": "python",
   "name": "python3"
  },
  "language_info": {
   "codemirror_mode": {
    "name": "ipython",
    "version": 3
   },
   "file_extension": ".py",
   "mimetype": "text/x-python",
   "name": "python",
   "nbconvert_exporter": "python",
   "pygments_lexer": "ipython3",
   "version": "3.7.2"
  }
 },
 "nbformat": 4,
 "nbformat_minor": 4
}
