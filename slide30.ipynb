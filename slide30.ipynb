{
 "cells": [
  {
   "cell_type": "markdown",
   "metadata": {},
   "source": [
    "Given the string that contains only digits 0-9 and a target value, return all possibilities to add binary operators (not unary) +, -, or * between the digits so they evaluate to the target value.\n",
    "\n",
    "Input: num = ‘123’ , target = 6;\n",
    "\n",
    "Output: [“1 + 2 + 3”,”1 x 2 x 3”]\n"
   ]
  },
  {
   "cell_type": "code",
   "execution_count": 6,
   "metadata": {},
   "outputs": [
    {
     "name": "stdout",
     "output_type": "stream",
     "text": [
      "['1+2+3', '1*2*3']\n"
     ]
    }
   ],
   "source": [
    "class Solution(object):\n",
    "    \n",
    "    def search(self, num, eq, last, cur, target, res):\n",
    "        if len(num) == 0:\n",
    "            if cur == target:\n",
    "                res.append(eq)\n",
    "        else:\n",
    "            for i in range(1, len(num)+1):\n",
    "                n = num[0:i]\n",
    "                if len(n) > 1 and n[0]=='0':\n",
    "                    return\n",
    "                \n",
    "                if len(eq)>0:\n",
    "                    self.search(num[i:], eq + '+' + n, int(n), cur + int(n), target, res)\n",
    "                    self.search(num[i:], eq + '-' + n, -int(n), cur - int(n), target, res)\n",
    "                    self.search(num[i:], eq + '*' + n, last*int(n), (cur-last) + (last * int(n)), target, res)\n",
    "                else:\n",
    "                    self.search(num[i:], n, int(n), int(n), target, res)\n",
    "                        \n",
    "                \n",
    "    def addOperators(self, num, target):\n",
    "        res = []\n",
    "        self.search(num, \"\", 0, 0, target, res)\n",
    "        return res\n",
    "s=\"123\"\n",
    "obj = Solution()\n",
    "print(obj.addOperators(s,6))"
   ]
  }
 ],
 "metadata": {
  "kernelspec": {
   "display_name": "Python 3",
   "language": "python",
   "name": "python3"
  },
  "language_info": {
   "codemirror_mode": {
    "name": "ipython",
    "version": 3
   },
   "file_extension": ".py",
   "mimetype": "text/x-python",
   "name": "python",
   "nbconvert_exporter": "python",
   "pygments_lexer": "ipython3",
   "version": "3.7.2"
  }
 },
 "nbformat": 4,
 "nbformat_minor": 4
}
