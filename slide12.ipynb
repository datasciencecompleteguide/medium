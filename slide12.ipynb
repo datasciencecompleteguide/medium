{
 "cells": [
  {
   "cell_type": "markdown",
   "metadata": {},
   "source": [
    "Question:  Given a string str, the task is to find the minimum number of characters to be inserted to convert it to palindrome.\n",
    "\n",
    "Input:\n",
    "1.\"abcd\"\n",
    "2.\"abcde\"\n",
    "\n",
    "Output:\n",
    "1.3\n",
    "2.4\n",
    "\n",
    "Explanation: 1. abcd: Number of insertions required is 3 i.e. dcbabcd\n",
    "             2. abcde: Number of insertions required is 4 i.e. edcbabcde"
   ]
  },
  {
   "cell_type": "code",
   "execution_count": 2,
   "metadata": {},
   "outputs": [
    {
     "name": "stdout",
     "output_type": "stream",
     "text": [
      "4\n"
     ]
    }
   ],
   "source": [
    "import sys \n",
    " \n",
    "def findMinInsertions(str, l, h): \n",
    "\n",
    "    if (l > h): \n",
    "        return sys.maxsize \n",
    "    if (l == h): \n",
    "        return 0\n",
    "    if (l == h - 1): \n",
    "        return 0 if(str[l] == str[h]) else 1\n",
    "    \n",
    "    if(str[l] == str[h]): \n",
    "        return findMinInsertions(str, l + 1, h - 1) \n",
    "    else: \n",
    "        return (min(findMinInsertions(str, l, h - 1), \n",
    "                    findMinInsertions(str, l + 1, h)) + 1) \n",
    "  \n",
    "if __name__ == \"__main__\": \n",
    "      \n",
    "    str = \"abcde\"\n",
    "    print(findMinInsertions(str, 0, len(str) - 1)) "
   ]
  }
 ],
 "metadata": {
  "kernelspec": {
   "display_name": "Python 3",
   "language": "python",
   "name": "python3"
  },
  "language_info": {
   "codemirror_mode": {
    "name": "ipython",
    "version": 3
   },
   "file_extension": ".py",
   "mimetype": "text/x-python",
   "name": "python",
   "nbconvert_exporter": "python",
   "pygments_lexer": "ipython3",
   "version": "3.7.2"
  }
 },
 "nbformat": 4,
 "nbformat_minor": 4
}
