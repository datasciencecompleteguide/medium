{
 "cells": [
  {
   "cell_type": "markdown",
   "metadata": {},
   "source": [
    "Question: Given four Integers a, b, c and d. Determine if there’s a rectangle such that the lengths of the sides are a, b, c and d (in any order).\n",
    "\n",
    "Constraints:  1<= a, b, c, d <= 10,000\n",
    "\n",
    "Input: [1,1,2,2]    \n",
    "Output:  Yes\n",
    "\n",
    "Input: [1,2,2,2]     \n",
    "Output:  No"
   ]
  },
  {
   "cell_type": "code",
   "execution_count": 1,
   "metadata": {},
   "outputs": [
    {
     "name": "stdout",
     "output_type": "stream",
     "text": [
      "No\n"
     ]
    }
   ],
   "source": [
    "def isRectangle(a, b, c, d): \n",
    "\n",
    "    if a == b == c == d: \n",
    "        return True\n",
    "          \n",
    "    elif a == b and c == d: \n",
    "        return True\n",
    "          \n",
    "    elif a == d and c == b: \n",
    "        return True\n",
    "          \n",
    "    elif a == c and d == b: \n",
    "        return True\n",
    "          \n",
    "    return False\n",
    "\n",
    "a, b, c, d = 1, 2, 3, 4\n",
    "print(\"Yes\" if isRectangle(a, b, c, d) else \"No\") "
   ]
  }
 ],
 "metadata": {
  "kernelspec": {
   "display_name": "Python 3",
   "language": "python",
   "name": "python3"
  },
  "language_info": {
   "codemirror_mode": {
    "name": "ipython",
    "version": 3
   },
   "file_extension": ".py",
   "mimetype": "text/x-python",
   "name": "python",
   "nbconvert_exporter": "python",
   "pygments_lexer": "ipython3",
   "version": "3.7.2"
  }
 },
 "nbformat": 4,
 "nbformat_minor": 4
}
