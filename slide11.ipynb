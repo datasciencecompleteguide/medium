{
 "cells": [
  {
   "cell_type": "markdown",
   "metadata": {},
   "source": [
    "Question: Given an Array of positive numbers, calculate the number of possible contiguous sub arrays having product lesser than a given number K.\n",
    "\n",
    "Input : array[] = [1, 2, 3, 4]                     \n",
    "K = 10          \n",
    "Output : 7 \n",
    "\n",
    "Explanation: The sub arrays are:-\n",
    "{1}, {2}, {3}, {4} {1, 2}, {1, 2, 3} and {2, 3} \n",
    "\n",
    "Input : array[] = [1, 9, 2, 8, 6, 4, 3]            \n",
    "K = 100         \n",
    "Output : 16"
   ]
  },
  {
   "cell_type": "code",
   "execution_count": 1,
   "metadata": {},
   "outputs": [
    {
     "name": "stdout",
     "output_type": "stream",
     "text": [
      "7 "
     ]
    }
   ],
   "source": [
    "def countsubarray(array, n, k): \n",
    "    count = 0\n",
    "    for i in range(0, n): \n",
    "        if array[i] <= k: \n",
    "            count += 1\n",
    "  \n",
    "        mul = array[i] \n",
    "  \n",
    "        for j in range(i + 1, n): \n",
    "            mul = mul * array[j]  \n",
    "            if mul <= k:  \n",
    "                count += 1\n",
    "            else: \n",
    "                break\n",
    "    return count \n",
    "\n",
    "array = [ 1, 2, 3, 4 ] \n",
    "k = 10\n",
    "size = len(array) \n",
    "count = countsubarray(array, size, k); \n",
    "print (count, end = \" \") "
   ]
  }
 ],
 "metadata": {
  "kernelspec": {
   "display_name": "Python 3",
   "language": "python",
   "name": "python3"
  },
  "language_info": {
   "codemirror_mode": {
    "name": "ipython",
    "version": 3
   },
   "file_extension": ".py",
   "mimetype": "text/x-python",
   "name": "python",
   "nbconvert_exporter": "python",
   "pygments_lexer": "ipython3",
   "version": "3.7.2"
  }
 },
 "nbformat": 4,
 "nbformat_minor": 4
}
