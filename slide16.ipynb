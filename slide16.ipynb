{
 "cells": [
  {
   "cell_type": "markdown",
   "metadata": {},
   "source": [
    "Question:  Given a string str, find the length of the longest substring without repeating characters.\n",
    "\n",
    "Input:   \n",
    "TestCase 1: ABDEFGABEF    \n",
    "TestCase 2: BBBB\n",
    "\n",
    "Output:   \n",
    "TestCase 1: 6   \n",
    "TestCase 2: 1   \n",
    "\n",
    "Explanation:\n",
    "1. For “ABDEFGABEF”, the longest substring are “BDEFGA” and “DEFGAB”, with length 6.   \n",
    "2. For “BBBB” the longest substring is “B”, with length 1.   "
   ]
  },
  {
   "cell_type": "code",
   "execution_count": 3,
   "metadata": {},
   "outputs": [
    {
     "name": "stdout",
     "output_type": "stream",
     "text": [
      "The input string is ABDEFGABEF\n",
      "The length of the longest non-repeating character substring is 6\n"
     ]
    }
   ],
   "source": [
    "def longestUniqueSubsttr(string): \n",
    "    seen = {} \n",
    "    maximum_length = 0\n",
    "    start = 0 \n",
    "       \n",
    "    for end in range(len(string)): \n",
    "        if string[end] in seen: \n",
    "            start = max(start, seen[string[end]] + 1) \n",
    "        \n",
    "        seen[string[end]] = end \n",
    "        maximum_length = max(maximum_length, end-start + 1) \n",
    "    \n",
    "    return maximum_length \n",
    "\n",
    "string = \"ABDEFGABEF\"\n",
    "print(\"The input string is\", string) \n",
    "length = longestUniqueSubsttr(string) \n",
    "print(\"The length of the longest non-repeating character substring is\",length)"
   ]
  }
 ],
 "metadata": {
  "kernelspec": {
   "display_name": "Python 3",
   "language": "python",
   "name": "python3"
  },
  "language_info": {
   "codemirror_mode": {
    "name": "ipython",
    "version": 3
   },
   "file_extension": ".py",
   "mimetype": "text/x-python",
   "name": "python",
   "nbconvert_exporter": "python",
   "pygments_lexer": "ipython3",
   "version": "3.7.2"
  }
 },
 "nbformat": 4,
 "nbformat_minor": 4
}
